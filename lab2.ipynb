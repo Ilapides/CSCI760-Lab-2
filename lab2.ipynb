{
 "metadata": {
  "language_info": {
   "codemirror_mode": {
    "name": "ipython",
    "version": 3
   },
   "file_extension": ".py",
   "mimetype": "text/x-python",
   "name": "python",
   "nbconvert_exporter": "python",
   "pygments_lexer": "ipython3",
   "version": "3.6.9-final"
  },
  "orig_nbformat": 2,
  "kernelspec": {
   "name": "python_defaultSpec_1599778299646",
   "display_name": "Python 3.6.9 64-bit"
  }
 },
 "nbformat": 4,
 "nbformat_minor": 2,
 "cells": [
  {
   "source": [
    "# imports\n",
    "import pandas as pd\n",
    "\n",
    "import urllib.request\n",
    "import nltk\n",
    "nltk.download('punkt')\n",
    "\n",
    "\n",
    "from nltk.tokenize import sent_tokenize, word_tokenize\n",
    "from nltk.tokenize import RegexpTokenizer\n"
   ],
   "cell_type": "code",
   "metadata": {
    "tags": []
   },
   "execution_count": null,
   "outputs": []
  },
  {
   "cell_type": "code",
   "execution_count": 27,
   "metadata": {
    "tags": []
   },
   "outputs": [
    {
     "output_type": "error",
     "ename": "SyntaxError",
     "evalue": "invalid syntax (<ipython-input-27-e3251b9bb8cb>, line 30)",
     "traceback": [
      "\u001b[0;36m  File \u001b[0;32m\"<ipython-input-27-e3251b9bb8cb>\"\u001b[0;36m, line \u001b[0;32m30\u001b[0m\n\u001b[0;31m    news_df.value_counts([:11])\u001b[0m\n\u001b[0m                          ^\u001b[0m\n\u001b[0;31mSyntaxError\u001b[0m\u001b[0;31m:\u001b[0m invalid syntax\n"
     ]
    }
   ],
   "source": [
    "# load the data\n",
    "shakespeare_url = \"http://www.cs.columbia.edu/~sarahita/CL/lab1/shakespeare.txt\"\n",
    "news_url = \"http://www.cs.columbia.edu/~sarahita/CL/lab1/news.txt\"\n",
    "swbd_url = \"http://www.cs.columbia.edu/~sarahita/CL/lab1/swbd.txt\"\n",
    "\n",
    "# read url .txt file into string \"data\"\n",
    "def get_data(url):\n",
    "  data = urllib.request.urlopen(url).read().decode('utf-8')\n",
    "  return data\n",
    "\n",
    "shakespeare_data = get_data(shakespeare_url)\n",
    "news_data = get_data(news_url)\n",
    "swbd_data = get_data(swbd_url)\n",
    "\n",
    "# function to turn data into tokens and store into a labeled dataframe\n",
    "def dfize_tokens(data):\n",
    "  df = pd.DataFrame({'Word': word_tokenize(data, language=\"english\", preserve_line=False)})\n",
    "#   df1 = pd.DataFrame(data=df.value_counts(), columns=[['Word','Count']])\n",
    "#   df1['Count']=df1['Word'].index\n",
    "  return df\n",
    "\n",
    "def dict_tokens(data):\n",
    "    freq = {}\n",
    "    for items in data: \n",
    "        freq[items] = data.count(items)\n",
    "    return freq\n",
    "\n",
    "\n",
    "news_df = dfize_tokens(news_data)\n",
    "news_df.value_counts()\n",
    "\n",
    "\n",
    "# df1 = pd.DataFrame(data=df['Word'].value_counts(), columns=[['Word','Count']])\n",
    "# df1['Count']=df1['Word'].index\n",
    "\n",
    "# list(news_df[news_df['Word']==news_df.Word.max()]['Count']) \n",
    "\n",
    "# shakespeare_tokenized = word_tokenize(shakespeare_data, language=\"english\", preserve_line=False)\n",
    "# news_tokenized = word_tokenize(news_data, language=\"english\", preserve_line=False)\n",
    "# swbd_tokenized = word_tokenize(swbd_data, language='english', preserve_line=False)\n",
    "\n"
   ]
  },
  {
   "cell_type": "code",
   "execution_count": null,
   "metadata": {},
   "outputs": [],
   "source": []
  }
 ]
}